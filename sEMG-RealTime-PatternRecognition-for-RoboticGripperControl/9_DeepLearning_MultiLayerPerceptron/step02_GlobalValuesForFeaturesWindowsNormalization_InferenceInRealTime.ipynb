{
  "nbformat": 4,
  "nbformat_minor": 0,
  "metadata": {
    "colab": {
      "provenance": []
    },
    "kernelspec": {
      "name": "python3",
      "display_name": "Python 3"
    },
    "language_info": {
      "name": "python"
    }
  },
  "cells": [
    {
      "cell_type": "markdown",
      "source": [
        "# **Obtención de máximos y mínmos gloabales por vector de característica: Normalización de ventanas de recorrido de extracción de características en tiempo real (en línea con baja latencia)**"
      ],
      "metadata": {
        "id": "Xvlg-MegeLc0"
      }
    },
    {
      "cell_type": "markdown",
      "source": [
        "\n",
        "------------------------------------------------------------\n",
        " Nombre del archivo  : step02_GlobalValuesForFeaturesWindowsNormalization_InferenceInRealTime.ipynb\n",
        "\n",
        " Autor               :   Jonathan Eduardo Castilla Zamora\n",
        "\n",
        " Github              :   https://github.com/JonathanCastilla/sEMG-RealTime-PatternRecognition-for-GripperControl\n",
        "\n",
        " Institución         :   Instituto Politécnico Nacional (IPN)\n",
        "\n",
        " Fecha de creación   :   Febrero/2025\n",
        "\n",
        " Última modificación :   Junio/2025\n",
        "\n",
        " Versión             :   1.3.1\n",
        "\n",
        " Descripción         :   El objetivo del presente algoritmo, como se precisó en todo el proceso de Reconocimiento de Patrones de las señales sEMG, es obtener los valores asociados a los máximos y mínimos globales para cada vector de característica para la normalización de tipo MinMax de las ventanas de recorrido de extracción de características en tiempo real (en línea con baja latencia) para el algoritmo de inferencia de comandos de muñeca de la actividad mioeléctrca de ambos canales analógicos (EDC y FDS). En particualr, como parte del proceso de clasificación de las muestras almacenadas asociados a los gestos de muñeca con el fin de traducir estos movimientos (WF, WE, HC y REP) en comandos para el control de movimiento de la pinza robótica en tiempo  real (en línea con baja latencia).\n",
        "                        \n",
        "\n",
        "\n",
        "------------------------------------------------------------"
      ],
      "metadata": {
        "id": "P5GCfpXDeFGL"
      }
    },
    {
      "cell_type": "markdown",
      "source": [
        "## Importación de bibliotecas"
      ],
      "metadata": {
        "id": "0CpmR46Le3Of"
      }
    },
    {
      "cell_type": "code",
      "execution_count": null,
      "metadata": {
        "id": "gOrnTM9WTk1c"
      },
      "outputs": [],
      "source": [
        "import pandas as pd # Importa la biblioteca pandas, utilizada para la carga, manipulación y análisis de datos estructurados,\n",
        "# especialmente en formato tabular mediante DataFrames.\n",
        "import numpy as np # Importa numpy, una biblioteca fundamental para cálculos numéricos,\n",
        "# especialmente útil para operar con arreglos y matrices.\n",
        "from google.colab import files"
      ]
    },
    {
      "cell_type": "markdown",
      "source": [
        "## Definición de los archivos de datos correspondientes a cada gesto de muñeca para cada canal analógico:\n",
        "\n",
        "\n",
        "* Extensor Común de los Dedos (EDC)\n",
        "\n",
        "* Flexor Superficial de los Dedos (FDS)"
      ],
      "metadata": {
        "id": "ANmwDHz0eolj"
      }
    },
    {
      "cell_type": "markdown",
      "source": [
        "### Protocolo de adquisición: M5sec"
      ],
      "metadata": {
        "id": "yD7dOMyfe60S"
      }
    },
    {
      "cell_type": "code",
      "source": [
        "# Definición de los archivos de datos correspondientes a cada gesto para ambos músculos (EDC y FDS)\n",
        "# Archivos de datos M5sec\n",
        "archivoWF_EDC_M5 = '/content/datosSensor_MAD_EDC_WF_M5sec_sEMG_nomMinMaxForSubject_FFC_LE_ESP32_IEMG-WL-MWL-Variance-DASDV_gestos_dataSet.csv' # Movimiento Wrist Flexion (WF) - Músculo EDC\n",
        "archivoWF_FDS_M5 = '/content/datosSensor_MAD_FDS_WF_M5sec_sEMG_nomMinMaxForSubject_FFC_LE_ESP32_IEMG-WL-MWL-Variance-DASDV_gestos_dataSet.csv' # Movimiento Wrist Flexion (WF) - Músculo FDS\n",
        "archivoWE_EDC_M5 = '/content/datosSensor_MAD_EDC_WE_M5sec_sEMG_nomMinMaxForSubject_FFC_LE_ESP32_IEMG-WL-MWL-Variance-DASDV_gestos_dataSet.csv' # Movimiento Wrist Extension (WE) - Músculo EDC\n",
        "archivoWE_FDS_M5 = '/content/datosSensor_MAD_FDS_WE_M5sec_sEMG_nomMinMaxForSubject_FFC_LE_ESP32_IEMG-WL-MWL-Variance-DASDV_gestos_dataSet.csv' # Movimiento Wrist Extension (WE) - Músculo FDS\n",
        "archivoHC_EDC_M5 = '/content/datosSensor_MAD_EDC_HC_M5sec_sEMG_nomMinMaxForSubject_FFC_LE_ESP32_IEMG-WL-MWL-Variance-DASDV_gestos_dataSet.csv' # Movimiento Hand Close (HC) - Músculo EDC\n",
        "archivoHC_FDS_M5 = '/content/datosSensor_MAD_FDS_HC_M5sec_sEMG_nomMinMaxForSubject_FFC_LE_ESP32_IEMG-WL-MWL-Variance-DASDV_gestos_dataSet.csv'  # Movimiento Hand Close (HC) - Músculo FDS"
      ],
      "metadata": {
        "id": "yuLxc3OMuRlb"
      },
      "execution_count": null,
      "outputs": []
    },
    {
      "cell_type": "markdown",
      "source": [
        "### Protocolo de adquisición: M3sec"
      ],
      "metadata": {
        "id": "RbC7UgQIe91o"
      }
    },
    {
      "cell_type": "code",
      "source": [
        "# Archivos de datos M3sec\n",
        "archivoWF_EDC_M3 = '/content/datosSensor_MAD_EDC_WF_M3sec_sEMG_nomMinMaxForSubject_FFC_LE_ESP32_IEMG-WL-MWL-Variance-DASDV_gestos_dataSet.csv' # Movimiento Wrist Flexion (WF) - Músculo EDC\n",
        "archivoWF_FDS_M3 = '/content/datosSensor_MAD_FDS_WF_M3sec_sEMG_nomMinMaxForSubject_FFC_LE_ESP32_IEMG-WL-MWL-Variance-DASDV_gestos_dataSet.csv' # Movimiento Wrist Flexion (WF) - Músculo FDS\n",
        "archivoWE_EDC_M3 = '/content/datosSensor_MAD_EDC_WE_M3sec_sEMG_nomMinMaxForSubject_FFC_LE_ESP32_IEMG-WL-MWL-Variance-DASDV_gestos_dataSet.csv' # Movimiento Wrist Extension (WE) - Músculo EDC\n",
        "archivoWE_FDS_M3 = '/content/datosSensor_MAD_FDS_WE_M3sec_sEMG_nomMinMaxForSubject_FFC_LE_ESP32_IEMG-WL-MWL-Variance-DASDV_gestos_dataSet.csv' # Movimiento Wrist Extension (WE) - Músculo FDS\n",
        "archivoHC_EDC_M3 = '/content/datosSensor_MAD_EDC_HC_M3sec_sEMG_nomMinMaxForSubject_FFC_LE_ESP32_IEMG-WL-MWL-Variance-DASDV_gestos_dataSet.csv' # Movimiento Hand Close (HC) - Músculo EDC\n",
        "archivoHC_FDS_M3 = '/content/datosSensor_MAD_FDS_HC_M3sec_sEMG_nomMinMaxForSubject_FFC_LE_ESP32_IEMG-WL-MWL-Variance-DASDV_gestos_dataSet.csv'  # Movimiento Hand Close (HC) - Músculo FDS"
      ],
      "metadata": {
        "id": "30-aQHGiuUdK"
      },
      "execution_count": null,
      "outputs": []
    },
    {
      "cell_type": "markdown",
      "source": [
        "### Archivos CSV unificados de características para ambos canales analógicos (EDC y FDS)"
      ],
      "metadata": {
        "id": "v_UyKkUCfA8B"
      }
    },
    {
      "cell_type": "code",
      "source": [
        "# Archivos de reposo\n",
        "archivoREP_EDC = '/content/reposo_EDC_unificado_dataSet.csv'\n",
        "archivoREP_FDS = '/content/reposo_FDS_unificado_dataSet.csv'"
      ],
      "metadata": {
        "id": "s6NWEy3SuWMu"
      },
      "execution_count": null,
      "outputs": []
    },
    {
      "cell_type": "markdown",
      "source": [
        "## Normalización de vectores de características de las matrices resultantes del proceso de Extracción de Características mediante propuesta de recorridos de ventana y porcentajes de solapamiento"
      ],
      "metadata": {
        "id": "CAm8TdGLfj6q"
      }
    },
    {
      "cell_type": "markdown",
      "source": [
        "### Declaración de función para Normalización tipo MinMax"
      ],
      "metadata": {
        "id": "Mbsim5a0fF0q"
      }
    },
    {
      "cell_type": "code",
      "source": [
        "# Función para normalizar cada columna de una matriz de manera independiente\n",
        "def normalize_columns(matrix):\n",
        "    # If the input is a DataFrame, convert it to a NumPy array\n",
        "    if isinstance(matrix, pd.DataFrame):\n",
        "        matrix = matrix.to_numpy()\n",
        "\n",
        "    # Crear una copia de la matriz para no modificar la original\n",
        "    normalized_matrix = np.zeros_like(matrix, dtype=float)\n",
        "\n",
        "    # Recorrer cada columna y normalizarla\n",
        "    for col in range(matrix.shape[1]):\n",
        "        scaler = StandardScaler()\n",
        "        normalized_matrix[:, col] = scaler.fit_transform(matrix[:, col].reshape(-1, 1)).flatten()\n",
        "\n",
        "    return normalized_matrix"
      ],
      "metadata": {
        "id": "yW0hN6hDTyl6"
      },
      "execution_count": null,
      "outputs": []
    },
    {
      "cell_type": "markdown",
      "source": [
        "##  Carga y preparación de los conjuntos de características exportados en archivos CSV por tipo de gesto de muñeca (WF, WE, HC y REP), por músculo (canal analógico) (FDS y EDC) y por protocolo de adquisición (M3sec y M5sec)."
      ],
      "metadata": {
        "id": "cc5dMqZXflWa"
      }
    },
    {
      "cell_type": "markdown",
      "source": [
        "1. Nuevamente, el algoritmo hereda la importación del conjunto de características relevantes resultantes del Análisis de Componentes Principales (PCA) mediante la definición de las rutas de acceso a los archivos CSV a cada uno de los documentos que contienen las características extraídas para cada gesto. De manera análoga, se cargan los datos correspondientes al gesto de reposo que presentan la peculiaridad de que el conjunto de datos se encuentra unificado por la naturaleza del gesto al que remite (REP: reposo).\n",
        "\n",
        "  En particular, se retoma la consideración de la caracterización de los gestos de muñeca que aluden a tres acciones motoras voluntarias (Flexión de muñeca, Extensión de muñeca y Mano cerrada, abreviadas como WF, WE, y HC, respectivamente), así como una condición de reposo (REP), dónde estas señales fueron registradas simultáneamente desde dos músculos de la zona del antebrazo: Extensor Común de los dedos (EDC) y Flexor Superficial de los dedos (FDS), de tal modo que cada gesto fue almacenado en archivos separados según el músculo y la duración del segmento de adquisición: 3 segundos (M3sec) y 5 segundos (M5sec) asociado al periodo de tiempo realización sostenido (prolongado) del gesto sostenido. Estos archivos son cargados como objetos DataFrame de pandas y concatenados verticalmente para formar un único conjunto unificado por gesto y músculo.\n",
        "\n",
        "2. Tras la carga de datos de las características (variables) representativas resultantes del algoritmo del Análisis de Componentes Principales (PCA), se elimina nuevamente la primera columna, que corresponde al índice o número de muestra (número de ventana de recorrido) conservando únicamente las columnas con las características extraídas del Análisis de Componentes Principales (PCA) dado que, como el caso de los algoritmos explicados con anterioridad, no aporta información de interés para la implementación del clasificador de Aprendizaje de tipo supervisado ni del subdominio del Aprendizaje Profundo (Deep Learning): Perceptrón Multicapa (MLP). De igual forma, el conjunto de datos se convierten en matrices NumPy para facilitar su manipulación posterior.\n",
        "\n",
        "3. Las matrices resultantes son convertidas a estructuras de tipo numpy.ndarray para facilitar operaciones matemáticas subsecuentes. Luego, todas las matrices son recortadas de manera uniforme hasta el mínimo número de filas (valores de las ventanas de características extraídas) entre todas ellas, garantizando que cada clase tenga igual número de muestras y evitar sesgos de entrenamiento, como lo implementado en algoritmos anteriores. Este enfoque permite asegurar que cada clase contenga el mismo número de ejemplos. Tras finalizar esto, se concatenan verticalmente las muestras para formar dos matrices completas: una para el músculo Extensor Digitorum Communis (EDC) y otra para el Flexor Digitorum Superficialis (FDS)."
      ],
      "metadata": {
        "id": "BJWIXi13fc-4"
      }
    },
    {
      "cell_type": "code",
      "source": [
        "# Cargar archivos en DataFrames\n",
        "WF_EDC = pd.concat([\n",
        "    pd.read_csv(archivoWF_EDC_M5),\n",
        "    pd.read_csv(archivoWF_EDC_M3)\n",
        "], ignore_index=True)\n",
        "\n",
        "WF_FDS = pd.concat([\n",
        "    pd.read_csv(archivoWF_FDS_M5),\n",
        "    pd.read_csv(archivoWF_FDS_M3)\n",
        "], ignore_index=True)\n",
        "\n",
        "WE_EDC = pd.concat([\n",
        "    pd.read_csv(archivoWE_EDC_M5),\n",
        "    pd.read_csv(archivoWE_EDC_M3)\n",
        "], ignore_index=True)\n",
        "\n",
        "WE_FDS = pd.concat([\n",
        "    pd.read_csv(archivoWE_FDS_M5),\n",
        "    pd.read_csv(archivoWE_FDS_M3)\n",
        "], ignore_index=True)\n",
        "\n",
        "HC_EDC = pd.concat([\n",
        "    pd.read_csv(archivoHC_EDC_M5),\n",
        "    pd.read_csv(archivoHC_EDC_M3)\n",
        "], ignore_index=True)\n",
        "\n",
        "HC_FDS = pd.concat([\n",
        "    pd.read_csv(archivoHC_FDS_M5),\n",
        "    pd.read_csv(archivoHC_FDS_M3)\n",
        "], ignore_index=True)\n",
        "\n",
        "# Reposo se mantiene igual\n",
        "REP_EDC = pd.read_csv(archivoREP_EDC)\n",
        "REP_FDS = pd.read_csv(archivoREP_FDS)\n",
        "\n",
        "# Extraer características\n",
        "caracteristicas = WF_EDC.columns[1:].tolist()\n",
        "print(\"Características:\", caracteristicas)\n",
        "\n",
        "# Eliminar primera columna (número de muestra)\n",
        "WF_EDC = WF_EDC.iloc[:, 1:]\n",
        "WF_FDS = WF_FDS.iloc[:, 1:]\n",
        "WE_EDC = WE_EDC.iloc[:, 1:]\n",
        "WE_FDS = WE_FDS.iloc[:, 1:]\n",
        "HC_EDC = HC_EDC.iloc[:, 1:]\n",
        "HC_FDS = HC_FDS.iloc[:, 1:]\n",
        "REP_EDC = REP_EDC.iloc[:, 1:]\n",
        "REP_FDS = REP_FDS.iloc[:, 1:]\n",
        "\n",
        "# Convertir a matrices NumPy\n",
        "matrices_EDC = [WF_EDC.to_numpy(), WE_EDC.to_numpy(), HC_EDC.to_numpy(), REP_EDC.to_numpy()]\n",
        "matrices_FDS = [WF_FDS.to_numpy(), WE_FDS.to_numpy(), HC_FDS.to_numpy(), REP_FDS.to_numpy()]\n",
        "\n",
        "# Determinar mínimo de filas\n",
        "min_filas = min(mat.shape[0] for mat in matrices_EDC + matrices_FDS)\n",
        "\n",
        "# Recortar todas al mínimo\n",
        "matrices_EDC = [mat[:min_filas, :] for mat in matrices_EDC]\n",
        "matrices_FDS = [mat[:min_filas, :] for mat in matrices_FDS]\n",
        "\n",
        "# Concatenar verticalmente\n",
        "P_EDC = np.vstack(matrices_EDC)\n",
        "P_FDS = np.vstack(matrices_FDS)\n",
        "\n",
        "print(\"Forma final P_EDC:\", P_EDC.shape)\n",
        "print(\"Forma final P_FDS:\", P_FDS.shape)"
      ],
      "metadata": {
        "colab": {
          "base_uri": "https://localhost:8080/"
        },
        "id": "huKpZpXLT215",
        "outputId": "f3a97ee9-51d6-4dc2-8ea7-d81a4078d26e"
      },
      "execution_count": null,
      "outputs": [
        {
          "output_type": "stream",
          "name": "stdout",
          "text": [
            "Características: ['IEMG', 'WL', 'MWL', 'Variance', 'DASDV']\n",
            "Forma final P_EDC: (26360, 5)\n",
            "Forma final P_FDS: (26360, 5)\n"
          ]
        }
      ]
    },
    {
      "cell_type": "markdown",
      "source": [
        "### Declaración de función para obtención de los valores máximos y mínimos de cada vector de características para normalización en tiempo real de las ventanas de recorrido de extracción de características tipo MinMax"
      ],
      "metadata": {
        "id": "rN7C5-y2f7Wm"
      }
    },
    {
      "cell_type": "code",
      "source": [
        "def get_min_max(data):\n",
        "    \"\"\"\n",
        "    Obtiene los valores mínimos y máximos de cada columna (característica) en el conjunto de datos.\n",
        "\n",
        "    Parámetros:\n",
        "        data (numpy.ndarray): Matriz de datos donde cada fila es un segmento y cada columna es una característica.\n",
        "\n",
        "    Retorna:\n",
        "        min_values (numpy.ndarray): Array con los valores mínimos de cada columna.\n",
        "        max_values (numpy.ndarray): Array con los valores máximos de cada columna.\n",
        "    \"\"\"\n",
        "    min_values = np.min(data, axis=0)  # Mínimo de cada columna\n",
        "    max_values = np.max(data, axis=0)  # Máximo de cada columna\n",
        "    return min_values, max_values"
      ],
      "metadata": {
        "id": "O7cskWqrU5NJ"
      },
      "execution_count": null,
      "outputs": []
    },
    {
      "cell_type": "markdown",
      "source": [
        "## Preparación de los archivos CSV obtenidos de la Matriz de Correlación..\n",
        "\n",
        "  * Se concatenan las matrices de carcterísticas asociadas a cada músculo (canal analógico) en una única matriz que representa todo el conjunto de\n",
        " características a analizar. El propósito de esta concatenación es obtener los valores asociados a los máximos y mínimos globales de cada vector de característica sin importar su canal analógico para la normalización en tiempo real de las ventanas de recorrido de extracción de características en el algoritmo de inferencia en tiempo real (en línea con baja latencia). Esta concatenación permite obtener dichos valores para las características independientemente del canal analógico del que provengan (FDS o EDC), por lo que este enfoque permite realizar un análisis generalizado de las características relevantes del conjunto de datos.\n"
      ],
      "metadata": {
        "id": "B3HHwy7ogg1J"
      }
    },
    {
      "cell_type": "code",
      "source": [
        "# Concatenación de características de ambos músculos en una sola matriz de datos\n",
        "data = np.vstack((P_EDC, P_FDS))\n",
        "\n",
        "print(f\"\\nForma de los conjuntos de datos totales:\")\n",
        "print(f\"P_EDC: {P_EDC.shape}\")\n",
        "print(f\"P_FDS: {P_FDS.shape}\")\n",
        "print(f\"data: {data.shape}\")\n",
        "# print(data)"
      ],
      "metadata": {
        "colab": {
          "base_uri": "https://localhost:8080/"
        },
        "id": "ozrK4rGuT7ce",
        "outputId": "09981d99-92cb-4c25-8f74-07a9e59b3f93"
      },
      "execution_count": null,
      "outputs": [
        {
          "output_type": "stream",
          "name": "stdout",
          "text": [
            "\n",
            "Forma de los conjuntos de datos totales:\n",
            "P_EDC: (26360, 5)\n",
            "P_FDS: (26360, 5)\n",
            "data: (52720, 5)\n"
          ]
        }
      ]
    },
    {
      "cell_type": "code",
      "source": [
        "print(np.isnan(data).sum())\n",
        "data = np.nan_to_num(data, nan=0.0)\n",
        "P_EDC = np.nan_to_num(P_EDC, nan=0.0)\n",
        "P_FDS = np.nan_to_num(P_FDS, nan=0.0)"
      ],
      "metadata": {
        "colab": {
          "base_uri": "https://localhost:8080/"
        },
        "id": "hrW-X2DHzDgx",
        "outputId": "e432a3d2-5949-4095-b688-bc02261290ca"
      },
      "execution_count": null,
      "outputs": [
        {
          "output_type": "stream",
          "name": "stdout",
          "text": [
            "0\n"
          ]
        }
      ]
    },
    {
      "cell_type": "markdown",
      "source": [
        "## Obtención de máximos y mínimos globales de los vectores de características"
      ],
      "metadata": {
        "id": "ysTyU-VjhQDD"
      }
    },
    {
      "cell_type": "code",
      "source": [
        "min_values, max_values = get_min_max(data)\n",
        "globalMinMaxValuesNormalization = np.array([min_values, max_values])\n",
        "print(\"Valores mínimos de cada característica:\", globalMinMaxValuesNormalization[0])\n",
        "print(\"Valores máximos de cada característica:\", globalMinMaxValuesNormalization[1])"
      ],
      "metadata": {
        "colab": {
          "base_uri": "https://localhost:8080/"
        },
        "id": "YKIkSw32U4b-",
        "outputId": "f5cabba1-b6b0-4d43-a3c7-2e48a599a3aa"
      },
      "execution_count": null,
      "outputs": [
        {
          "output_type": "stream",
          "name": "stdout",
          "text": [
            "Valores mínimos de cada característica: [8.87864823e-01 0.00000000e+00 0.00000000e+00 1.20705916e-35\n",
            " 0.00000000e+00]\n",
            "Valores máximos de cada característica: [3.11316901e+02 2.49690211e+00 2.92565056e+00 1.34176081e-01\n",
            " 5.16329287e-02]\n"
          ]
        }
      ]
    },
    {
      "cell_type": "code",
      "source": [
        "min_values_EDC, max_values_EDC = get_min_max(P_EDC)\n",
        "print(\"Valores mínimos de cada característica:\", min_values_EDC)\n",
        "print(\"Valores máximos de cada característica:\", max_values_EDC)"
      ],
      "metadata": {
        "colab": {
          "base_uri": "https://localhost:8080/"
        },
        "id": "jMfJLXN068CO",
        "outputId": "09d18a61-0def-45c8-cf01-004fa879221b"
      },
      "execution_count": null,
      "outputs": [
        {
          "output_type": "stream",
          "name": "stdout",
          "text": [
            "Valores mínimos de cada característica: [8.87864823e-01 0.00000000e+00 0.00000000e+00 1.20705916e-35\n",
            " 0.00000000e+00]\n",
            "Valores máximos de cada característica: [3.11316901e+02 2.49690211e+00 2.92565056e+00 1.34176081e-01\n",
            " 5.16329287e-02]\n"
          ]
        }
      ]
    },
    {
      "cell_type": "code",
      "source": [
        "minMaxValuesNormalization_EDC = np.array([min_values_EDC, max_values_EDC])\n",
        "print(minMaxValuesNormalization_EDC[0])"
      ],
      "metadata": {
        "colab": {
          "base_uri": "https://localhost:8080/"
        },
        "id": "KWDOluZg7RWD",
        "outputId": "d8a2cca9-596c-48d8-be1b-883011c7220d"
      },
      "execution_count": null,
      "outputs": [
        {
          "output_type": "stream",
          "name": "stdout",
          "text": [
            "[8.87864823e-01 0.00000000e+00 0.00000000e+00 1.20705916e-35\n",
            " 0.00000000e+00]\n"
          ]
        }
      ]
    },
    {
      "cell_type": "code",
      "source": [
        "min_values_FDS, max_values_FDS = get_min_max(P_FDS)\n",
        "\n",
        "print(\"Valores mínimos de cada característica:\", min_values_FDS)\n",
        "print(\"Valores máximos de cada característica:\", max_values_FDS)"
      ],
      "metadata": {
        "colab": {
          "base_uri": "https://localhost:8080/"
        },
        "id": "9lfh-JxN7EgQ",
        "outputId": "375496f6-dfcc-422c-fefd-5c827f613279"
      },
      "execution_count": null,
      "outputs": [
        {
          "output_type": "stream",
          "name": "stdout",
          "text": [
            "Valores mínimos de cada característica: [2.21198157e+00 0.00000000e+00 0.00000000e+00 2.71588310e-35\n",
            " 0.00000000e+00]\n",
            "Valores máximos de cada característica: [1.74462926e+02 1.26452906e+00 1.18125960e+00 4.37338457e-02\n",
            " 2.41925381e-02]\n"
          ]
        }
      ]
    },
    {
      "cell_type": "code",
      "source": [
        "minMaxValuesNormalization_FDS = np.array([min_values_FDS, max_values_FDS])\n",
        "print(minMaxValuesNormalization_FDS[0])"
      ],
      "metadata": {
        "colab": {
          "base_uri": "https://localhost:8080/"
        },
        "id": "rw4dANNP7Q4L",
        "outputId": "4cb9fe08-401d-4d4e-fdef-a06e04c9d775"
      },
      "execution_count": null,
      "outputs": [
        {
          "output_type": "stream",
          "name": "stdout",
          "text": [
            "[2.21198157e+00 0.00000000e+00 0.00000000e+00 2.71588310e-35\n",
            " 0.00000000e+00]\n"
          ]
        }
      ]
    },
    {
      "cell_type": "markdown",
      "source": [
        "## Guardado y descarga de los archivos tipo NumPy de los máximos y mínimos globales de cada vector de característica sin considerar su canal analógico (EDC y FDS)"
      ],
      "metadata": {
        "id": "rHNw0hUphW_v"
      }
    },
    {
      "cell_type": "code",
      "source": [
        "# Guardar el array en un archivo .npy\n",
        "np.save('minMaxValuesNormalization_EDC_sEMGnomMinMax_FFC_LE_ESP32_featuresSet_PCA+MatCorr_reduced1.npy', minMaxValuesNormalization_EDC)\n",
        "np.save('minMaxValuesNormalization_FDS_sEMGnomMinMax_FFC_LE_ESP32_featuresSet_PCA+MatCorr_reduced1.npy', minMaxValuesNormalization_FDS)\n",
        "# Descargar el archivo a tu PC\n",
        "files.download('minMaxValuesNormalization_EDC_sEMGnomMinMax_FFC_LE_ESP32_featuresSet_PCA+MatCorr_reduced1.npy')\n",
        "files.download('minMaxValuesNormalization_FDS_sEMGnomMinMax_FFC_LE_ESP32_featuresSet_PCA+MatCorr_reduced1.npy')"
      ],
      "metadata": {
        "colab": {
          "base_uri": "https://localhost:8080/",
          "height": 17
        },
        "id": "puIs7IFreEuj",
        "outputId": "f2c8afae-19d9-42cf-e0a7-4f5df30e6d71"
      },
      "execution_count": null,
      "outputs": [
        {
          "output_type": "display_data",
          "data": {
            "text/plain": [
              "<IPython.core.display.Javascript object>"
            ],
            "application/javascript": [
              "\n",
              "    async function download(id, filename, size) {\n",
              "      if (!google.colab.kernel.accessAllowed) {\n",
              "        return;\n",
              "      }\n",
              "      const div = document.createElement('div');\n",
              "      const label = document.createElement('label');\n",
              "      label.textContent = `Downloading \"${filename}\": `;\n",
              "      div.appendChild(label);\n",
              "      const progress = document.createElement('progress');\n",
              "      progress.max = size;\n",
              "      div.appendChild(progress);\n",
              "      document.body.appendChild(div);\n",
              "\n",
              "      const buffers = [];\n",
              "      let downloaded = 0;\n",
              "\n",
              "      const channel = await google.colab.kernel.comms.open(id);\n",
              "      // Send a message to notify the kernel that we're ready.\n",
              "      channel.send({})\n",
              "\n",
              "      for await (const message of channel.messages) {\n",
              "        // Send a message to notify the kernel that we're ready.\n",
              "        channel.send({})\n",
              "        if (message.buffers) {\n",
              "          for (const buffer of message.buffers) {\n",
              "            buffers.push(buffer);\n",
              "            downloaded += buffer.byteLength;\n",
              "            progress.value = downloaded;\n",
              "          }\n",
              "        }\n",
              "      }\n",
              "      const blob = new Blob(buffers, {type: 'application/binary'});\n",
              "      const a = document.createElement('a');\n",
              "      a.href = window.URL.createObjectURL(blob);\n",
              "      a.download = filename;\n",
              "      div.appendChild(a);\n",
              "      a.click();\n",
              "      div.remove();\n",
              "    }\n",
              "  "
            ]
          },
          "metadata": {}
        },
        {
          "output_type": "display_data",
          "data": {
            "text/plain": [
              "<IPython.core.display.Javascript object>"
            ],
            "application/javascript": [
              "download(\"download_882babd0-e478-468c-948e-dfaaf5fd581f\", \"minMaxValuesNormalization_EDC_sEMGnomMinMax_FFC_LE_ESP32_featuresSet_PCA+MatCorr_reduced1.npy\", 192)"
            ]
          },
          "metadata": {}
        },
        {
          "output_type": "display_data",
          "data": {
            "text/plain": [
              "<IPython.core.display.Javascript object>"
            ],
            "application/javascript": [
              "\n",
              "    async function download(id, filename, size) {\n",
              "      if (!google.colab.kernel.accessAllowed) {\n",
              "        return;\n",
              "      }\n",
              "      const div = document.createElement('div');\n",
              "      const label = document.createElement('label');\n",
              "      label.textContent = `Downloading \"${filename}\": `;\n",
              "      div.appendChild(label);\n",
              "      const progress = document.createElement('progress');\n",
              "      progress.max = size;\n",
              "      div.appendChild(progress);\n",
              "      document.body.appendChild(div);\n",
              "\n",
              "      const buffers = [];\n",
              "      let downloaded = 0;\n",
              "\n",
              "      const channel = await google.colab.kernel.comms.open(id);\n",
              "      // Send a message to notify the kernel that we're ready.\n",
              "      channel.send({})\n",
              "\n",
              "      for await (const message of channel.messages) {\n",
              "        // Send a message to notify the kernel that we're ready.\n",
              "        channel.send({})\n",
              "        if (message.buffers) {\n",
              "          for (const buffer of message.buffers) {\n",
              "            buffers.push(buffer);\n",
              "            downloaded += buffer.byteLength;\n",
              "            progress.value = downloaded;\n",
              "          }\n",
              "        }\n",
              "      }\n",
              "      const blob = new Blob(buffers, {type: 'application/binary'});\n",
              "      const a = document.createElement('a');\n",
              "      a.href = window.URL.createObjectURL(blob);\n",
              "      a.download = filename;\n",
              "      div.appendChild(a);\n",
              "      a.click();\n",
              "      div.remove();\n",
              "    }\n",
              "  "
            ]
          },
          "metadata": {}
        },
        {
          "output_type": "display_data",
          "data": {
            "text/plain": [
              "<IPython.core.display.Javascript object>"
            ],
            "application/javascript": [
              "download(\"download_ad54ae8e-8897-454e-94ee-f20819ec08fd\", \"minMaxValuesNormalization_FDS_sEMGnomMinMax_FFC_LE_ESP32_featuresSet_PCA+MatCorr_reduced1.npy\", 192)"
            ]
          },
          "metadata": {}
        }
      ]
    },
    {
      "cell_type": "code",
      "source": [
        "# Guardar el array en un archivo .npy\n",
        "np.save('globalMinMaxValuesNormalization_sEMGnomMinMax_FFC_LE_ESP32_featuresSet_PCA+MatCorr_reduced1.npy', globalMinMaxValuesNormalization)\n",
        "\n",
        "# Descargar el archivo a tu PC\n",
        "files.download('globalMinMaxValuesNormalization_sEMGnomMinMax_FFC_LE_ESP32_featuresSet_PCA+MatCorr_reduced1.npy')"
      ],
      "metadata": {
        "colab": {
          "base_uri": "https://localhost:8080/",
          "height": 17
        },
        "id": "Lo3IlOBfd-Kw",
        "outputId": "66cb2c88-e988-4794-ede8-ab869f5b8e90"
      },
      "execution_count": null,
      "outputs": [
        {
          "output_type": "display_data",
          "data": {
            "text/plain": [
              "<IPython.core.display.Javascript object>"
            ],
            "application/javascript": [
              "\n",
              "    async function download(id, filename, size) {\n",
              "      if (!google.colab.kernel.accessAllowed) {\n",
              "        return;\n",
              "      }\n",
              "      const div = document.createElement('div');\n",
              "      const label = document.createElement('label');\n",
              "      label.textContent = `Downloading \"${filename}\": `;\n",
              "      div.appendChild(label);\n",
              "      const progress = document.createElement('progress');\n",
              "      progress.max = size;\n",
              "      div.appendChild(progress);\n",
              "      document.body.appendChild(div);\n",
              "\n",
              "      const buffers = [];\n",
              "      let downloaded = 0;\n",
              "\n",
              "      const channel = await google.colab.kernel.comms.open(id);\n",
              "      // Send a message to notify the kernel that we're ready.\n",
              "      channel.send({})\n",
              "\n",
              "      for await (const message of channel.messages) {\n",
              "        // Send a message to notify the kernel that we're ready.\n",
              "        channel.send({})\n",
              "        if (message.buffers) {\n",
              "          for (const buffer of message.buffers) {\n",
              "            buffers.push(buffer);\n",
              "            downloaded += buffer.byteLength;\n",
              "            progress.value = downloaded;\n",
              "          }\n",
              "        }\n",
              "      }\n",
              "      const blob = new Blob(buffers, {type: 'application/binary'});\n",
              "      const a = document.createElement('a');\n",
              "      a.href = window.URL.createObjectURL(blob);\n",
              "      a.download = filename;\n",
              "      div.appendChild(a);\n",
              "      a.click();\n",
              "      div.remove();\n",
              "    }\n",
              "  "
            ]
          },
          "metadata": {}
        },
        {
          "output_type": "display_data",
          "data": {
            "text/plain": [
              "<IPython.core.display.Javascript object>"
            ],
            "application/javascript": [
              "download(\"download_102f3e9e-ca5b-4ac1-90db-27988eb9bd67\", \"globalMinMaxValuesNormalization_sEMGnomMinMax_FFC_LE_ESP32_featuresSet_PCA+MatCorr_reduced1.npy\", 208)"
            ]
          },
          "metadata": {}
        }
      ]
    }
  ]
}