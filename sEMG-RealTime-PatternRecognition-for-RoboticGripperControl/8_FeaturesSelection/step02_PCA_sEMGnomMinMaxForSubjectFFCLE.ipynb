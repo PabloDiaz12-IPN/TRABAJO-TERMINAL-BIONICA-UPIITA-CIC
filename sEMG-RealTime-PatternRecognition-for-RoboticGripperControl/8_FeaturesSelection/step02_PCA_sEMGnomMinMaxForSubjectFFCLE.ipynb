{
  "nbformat": 4,
  "nbformat_minor": 0,
  "metadata": {
    "colab": {
      "provenance": []
    },
    "kernelspec": {
      "name": "python3",
      "display_name": "Python 3"
    },
    "language_info": {
      "name": "python"
    }
  },
  "cells": [
    {
      "cell_type": "markdown",
      "source": [
        "# **Proceso de Selección de Características: Análisis de Componentes Principales (PCA)**"
      ],
      "metadata": {
        "id": "T7vrodgF5NSA"
      }
    },
    {
      "cell_type": "markdown",
      "source": [
        "\n",
        "------------------------------------------------------------\n",
        " Nombre del archivo  : step02_PCA_sEMGnomMinMaxForSubjectFFCLE.ipynb\n",
        "\n",
        " Autor               :   Jonathan Eduardo Castilla Zamora\n",
        "\n",
        " Github              :   https://github.com/JonathanCastilla/sEMG-RealTime-PatternRecognition-for-GripperControl\n",
        "\n",
        " Institución         :   Instituto Politécnico Nacional (IPN)\n",
        "\n",
        " Fecha de creación   :   Febrero/2025\n",
        "\n",
        " Última modificación :   Junio/2025\n",
        "\n",
        " Versión             :   1.3.1\n",
        "\n",
        " Descripción         :   Como parte del ultimo procedimiento del proceso de seleccion de caracteristicas resuelta subsecuente la implementacion del algoritmo para el Analisis de Componentes Principales (PCA) del conjunto de los vectores de caracteristicas con menor grado de asociacion lineal entre ellas, cuales estas variables se asume que explican la variabilidad del conjunto de las muestras almacenadas y procesadas de los dos protocolos de adquisición M3sec y M5sec para todos los sujetos del conjunto de datos a traves de la metodología del recorrido de ventanas y porcentajes de solapamiento para la extracción de estas características (variables).\n",
        "\n",
        " Bajo esta vía de desarrollo, tras obtener los nombres (específicamente, los acrónimos) de las características a utilizar para el Análisis de Componentes Principales (PCA) se iteran nuevamente los algoritmos de integracion como exportación del conjunto de características a archivos CSV, generando nuevamente las matrices del conjunto de características en el dominio del tiempo de las señal sEMG postprocesada de interés (sEMG_FFC_LE_ESP32) pero solamente de aquellas resultantes del algoritmo de Matriz de Correlación.\n",
        "\n",
        " Esta segunda discriminación de características tiene como fin resumir este conjunto en un número menor de variables representativas que expliquen colectivamente la mayor parte la variabilidad del conjunto del que procede, es decir, aplicar una reducción a la dimensionalidad de los datos asumiendo que cada una de estas variables (características) describen cada una\n",
        " de las muestras para todos los sujetos. Este enfoque, como se comento antaño, funge como antecedente para el proceso de entrenamiento como inferencia del clasificador de Aprendizaje Automático de tipo supervisado\n",
        "                        \n",
        "\n",
        "\n",
        "------------------------------------------------------------\n"
      ],
      "metadata": {
        "id": "QYkTmhi-Q6pZ"
      }
    },
    {
      "cell_type": "markdown",
      "source": [
        "## Importación de bibliotecas"
      ],
      "metadata": {
        "id": "1HggnLTv5KLl"
      }
    },
    {
      "cell_type": "code",
      "execution_count": null,
      "metadata": {
        "id": "hxCiwc6WzYv_"
      },
      "outputs": [],
      "source": [
        "import pandas as pd # Importa la biblioteca pandas, utilizada para la carga, manipulación y análisis de datos estructurados,\n",
        "# especialmente en formato tabular mediante DataFrames.\n",
        "import numpy as np # Importa numpy, una biblioteca fundamental para cálculos numéricos,\n",
        "# especialmente útil para operar con arreglos y matrices, base para los cálculos de PCA.\n",
        "import matplotlib.pyplot as plt # Importa matplotlib.pyplot, una herramienta de visualización en 2D.\n",
        "# Se usa aquí para graficar resultados del PCA, como la varianza explicada o proyecciones en componentes principales.\n",
        "from sklearn.decomposition import PCA # Importa PCA (Análisis de Componentes Principales) desde scikit-learn, una técnica estadística que permite\n",
        "# reducir la dimensionalidad del conjunto de datos, manteniendo la mayor cantidad posible de varianza (información)\n",
        "# al transformar las variables originales en un nuevo conjunto de variables ortogonales llamadas componentes principales.\n",
        "from sklearn.preprocessing import MinMaxScaler # Importa MinMaxScaler desde sklearn, una técnica de normalización que reescala cada característica\n",
        "# al rango [0, 1], lo cual es importante antes de aplicar PCA para evitar que características con distintas escalas dominen la descomposición."
      ]
    },
    {
      "cell_type": "markdown",
      "source": [
        "## Definición de los archivos de datos correspondientes a cada gesto de muñeca para cada canal analógico:\n",
        "\n",
        "\n",
        "* Extensor Común de los Dedos (EDC)\n",
        "\n",
        "* Flexor Superficial de los Dedos (FDS)\n",
        "\n"
      ],
      "metadata": {
        "id": "mgmErsT_5xLG"
      }
    },
    {
      "cell_type": "markdown",
      "source": [
        "### Características seleccionadas a partir de la matriz de Correlación"
      ],
      "metadata": {
        "id": "slcR-FWptrCU"
      }
    },
    {
      "cell_type": "markdown",
      "source": [
        "### Protocolo de adquisición: M5sec"
      ],
      "metadata": {
        "id": "Oo88ayMa54D7"
      }
    },
    {
      "cell_type": "code",
      "source": [
        "# Definición de los archivos de datos correspondientes a cada gesto para ambos músculos (EDC y FDS)\n",
        "# Archivos de datos M5sec\n",
        "archivoWF_EDC_M5 = '/content/datosSensor_MAD_EDC_WF_M5sec_sEMG_nomMinMaxForSubject_FFC_LE_ESP32_WL-MWL-IEMG-Variance-Skewness-Kurtosis-DASDV_gestos_dataSet.csv' # Movimiento Wrist Flexion (WF) - Músculo EDC\n",
        "archivoWF_FDS_M5 = '/content/datosSensor_MAD_FDS_WF_M5sec_sEMG_nomMinMaxForSubject_FFC_LE_ESP32_WL-MWL-IEMG-Variance-Skewness-Kurtosis-DASDV_gestos_dataSet.csv' # Movimiento Wrist Flexion (WF) - Músculo FDS\n",
        "archivoWE_EDC_M5 = '/content/datosSensor_MAD_EDC_WE_M5sec_sEMG_nomMinMaxForSubject_FFC_LE_ESP32_WL-MWL-IEMG-Variance-Skewness-Kurtosis-DASDV_gestos_dataSet.csv' # Movimiento Wrist Extension (WE) - Músculo EDC\n",
        "archivoWE_FDS_M5 = '/content/datosSensor_MAD_FDS_WE_M5sec_sEMG_nomMinMaxForSubject_FFC_LE_ESP32_WL-MWL-IEMG-Variance-Skewness-Kurtosis-DASDV_gestos_dataSet.csv' # Movimiento Wrist Extension (WE) - Músculo FDS\n",
        "archivoHC_EDC_M5 = '/content/datosSensor_MAD_EDC_HC_M5sec_sEMG_nomMinMaxForSubject_FFC_LE_ESP32_WL-MWL-IEMG-Variance-Skewness-Kurtosis-DASDV_gestos_dataSet.csv' # Movimiento Hand Close (HC) - Músculo EDC\n",
        "archivoHC_FDS_M5 = '/content/datosSensor_MAD_FDS_HC_M5sec_sEMG_nomMinMaxForSubject_FFC_LE_ESP32_WL-MWL-IEMG-Variance-Skewness-Kurtosis-DASDV_gestos_dataSet.csv' # Movimiento Hand Close (HC) - Músculo FDS"
      ],
      "metadata": {
        "id": "itwSEb6iAgkn"
      },
      "execution_count": null,
      "outputs": []
    },
    {
      "cell_type": "markdown",
      "source": [
        "### Protocolo de adquisición: M3sec"
      ],
      "metadata": {
        "id": "xKtyWLEl54zX"
      }
    },
    {
      "cell_type": "code",
      "source": [
        "# Archivos de datos M3sec\n",
        "archivoWF_EDC_M3 = '/content/datosSensor_MAD_EDC_WF_M3sec_sEMG_nomMinMaxForSubject_FFC_LE_ESP32_WL-MWL-IEMG-Variance-Skewness-Kurtosis-DASDV_gestos_dataSet.csv' # Movimiento Wrist Flexion (WF) - Músculo EDC\n",
        "archivoWF_FDS_M3 = '/content/datosSensor_MAD_FDS_WF_M3sec_sEMG_nomMinMaxForSubject_FFC_LE_ESP32_WL-MWL-IEMG-Variance-Skewness-Kurtosis-DASDV_gestos_dataSet.csv' # Movimiento Wrist Flexion (WF) - Músculo FDS\n",
        "archivoWE_EDC_M3 = '/content/datosSensor_MAD_EDC_WE_M3sec_sEMG_nomMinMaxForSubject_FFC_LE_ESP32_WL-MWL-IEMG-Variance-Skewness-Kurtosis-DASDV_gestos_dataSet.csv' # Movimiento Wrist Extension (WE) - Músculo EDC\n",
        "archivoWE_FDS_M3 = '/content/datosSensor_MAD_FDS_WE_M3sec_sEMG_nomMinMaxForSubject_FFC_LE_ESP32_WL-MWL-IEMG-Variance-Skewness-Kurtosis-DASDV_gestos_dataSet.csv' # Movimiento Wrist Extension (WE) - Músculo FDS\n",
        "archivoHC_EDC_M3 = '/content/datosSensor_MAD_EDC_HC_M3sec_sEMG_nomMinMaxForSubject_FFC_LE_ESP32_WL-MWL-IEMG-Variance-Skewness-Kurtosis-DASDV_gestos_dataSet.csv' # Movimiento Hand Close (HC) - Músculo EDC\n",
        "archivoHC_FDS_M3 = '/content/datosSensor_MAD_FDS_HC_M3sec_sEMG_nomMinMaxForSubject_FFC_LE_ESP32_WL-MWL-IEMG-Variance-Skewness-Kurtosis-DASDV_gestos_dataSet.csv' # Movimiento Hand Close (HC) - Músculo FDS"
      ],
      "metadata": {
        "id": "8eBV0jRfiMT6"
      },
      "execution_count": null,
      "outputs": []
    },
    {
      "cell_type": "markdown",
      "source": [
        "### Archivos CSV unificados de características para ambos canales analógicos (EDC y FDS)"
      ],
      "metadata": {
        "id": "2M1J2k2W589w"
      }
    },
    {
      "cell_type": "code",
      "source": [
        "# Archivos de reposo\n",
        "archivoREP_EDC = '/content/reposo_EDC_unificado_dataSet.csv'\n",
        "archivoREP_FDS = '/content/reposo_FDS_unificado_dataSet.csv'"
      ],
      "metadata": {
        "id": "_qcXx1pWiO5M"
      },
      "execution_count": null,
      "outputs": []
    },
    {
      "cell_type": "markdown",
      "source": [
        "## Normalización de vectores de características de las matrices resultantes del proceso de Extracción de Características mediante propuesta de recorridos de ventana y porcentajes de solapamiento"
      ],
      "metadata": {
        "id": "E-jaDSd-6Ubv"
      }
    },
    {
      "cell_type": "markdown",
      "source": [
        "### Declaración de función para Normalización tipo MinMax"
      ],
      "metadata": {
        "id": "0lxgkxXp6Y3F"
      }
    },
    {
      "cell_type": "code",
      "source": [
        "# Función para normalizar cada columna de una matriz de manera independiente\n",
        "def normalize_columns(matrix):\n",
        "    # If the input is a DataFrame, convert it to a NumPy array\n",
        "    if isinstance(matrix, pd.DataFrame):\n",
        "        matrix = matrix.to_numpy()\n",
        "\n",
        "    # Crear una copia de la matriz para no modificar la original\n",
        "    normalized_matrix = np.zeros_like(matrix, dtype=float)\n",
        "\n",
        "    # Recorrer cada columna y normalizarla\n",
        "    for col in range(matrix.shape[1]):\n",
        "        scaler = MinMaxScaler()\n",
        "        normalized_matrix[:, col] = scaler.fit_transform(matrix[:, col].reshape(-1, 1)).flatten()\n",
        "\n",
        "    return normalized_matrix"
      ],
      "metadata": {
        "id": "F82WZE3eIajq"
      },
      "execution_count": null,
      "outputs": []
    },
    {
      "cell_type": "markdown",
      "source": [
        "## Preparación de los archivos CSV obtenidos de la Matriz de Correlación..\n",
        "\n",
        "1. Tras la carga de datos de las características con menor asociación lineal, se elimina la primera columna, que corresponde al índice o número de muestra (número de ventana de recorrido), esto se realiza dado que esta información no aporta ninguna métrica discriminatoria ni para el algoritmo de Matriz de Correlación, ni para el Análisis de Componentes Principales (PCA) De igual forma, el conjunto de datos se convierten en matrices NumPy para facilitar su manipulación posterior\n",
        "\n",
        "2.  Seguidamente, se determina la mínima cantidad de muestras (valores de las ventanas de características extraídas) entre todos los gestos y músculos para asegurar que cada clase contenga el mismo número de ejemplos, evitando errores en el proceso de datos por desbalance de número de datos por lo que los conjuntos de características se recortan a dicho tamaño para, después, concatenarse verticalmente para formar dos matrices completas: una para el músculo Extensor Digitorum Communis (EDC) y otra para el músculo Flexor Digitorum Superficialis (FDS).\n",
        "\n",
        "  * Estos se concatenan en una única matriz que representa todo el conjunto de\n",
        " características a analizar. El propósito de esta concatenación, como se mencionó anteriormente, es para analizar las correlaciones cruzadas entre características de diferentes músculos y no limitar los resultados del algoritmo a un músculo específico (canal analógico, en particular). Esta concatenación permite obtener las características relevantes que pueden explicar la variabilidad del conjunto de características independientemente del canal analógico del que provengan (FDS o EDC), por lo que este enfoque permite realizar un análisis generalizado de las características relevantes del conjunto de datos.\n"
      ],
      "metadata": {
        "id": "sZxSEhyc6ffX"
      }
    },
    {
      "cell_type": "code",
      "source": [
        "# Cargar archivos en DataFrames\n",
        "WF_EDC = pd.concat([\n",
        "    pd.read_csv(archivoWF_EDC_M5),\n",
        "    pd.read_csv(archivoWF_EDC_M3)\n",
        "], ignore_index=True)\n",
        "\n",
        "WF_FDS = pd.concat([\n",
        "    pd.read_csv(archivoWF_FDS_M5),\n",
        "    pd.read_csv(archivoWF_FDS_M3)\n",
        "], ignore_index=True)\n",
        "\n",
        "WE_EDC = pd.concat([\n",
        "    pd.read_csv(archivoWE_EDC_M5),\n",
        "    pd.read_csv(archivoWE_EDC_M3)\n",
        "], ignore_index=True)\n",
        "\n",
        "WE_FDS = pd.concat([\n",
        "    pd.read_csv(archivoWE_FDS_M5),\n",
        "    pd.read_csv(archivoWE_FDS_M3)\n",
        "], ignore_index=True)\n",
        "\n",
        "HC_EDC = pd.concat([\n",
        "    pd.read_csv(archivoHC_EDC_M5),\n",
        "    pd.read_csv(archivoHC_EDC_M3)\n",
        "], ignore_index=True)\n",
        "\n",
        "HC_FDS = pd.concat([\n",
        "    pd.read_csv(archivoHC_FDS_M5),\n",
        "    pd.read_csv(archivoHC_FDS_M3)\n",
        "], ignore_index=True)\n",
        "\n",
        "# Reposo se mantiene igual\n",
        "REP_EDC = pd.read_csv(archivoREP_EDC)\n",
        "REP_FDS = pd.read_csv(archivoREP_FDS)\n",
        "\n",
        "# Extraer características\n",
        "caracteristicas = WF_EDC.columns[1:].tolist()\n",
        "print(\"Características:\", caracteristicas)\n",
        "\n",
        "# Eliminar primera columna (número de muestra)\n",
        "WF_EDC = WF_EDC.iloc[:, 1:]\n",
        "WF_FDS = WF_FDS.iloc[:, 1:]\n",
        "WE_EDC = WE_EDC.iloc[:, 1:]\n",
        "WE_FDS = WE_FDS.iloc[:, 1:]\n",
        "HC_EDC = HC_EDC.iloc[:, 1:]\n",
        "HC_FDS = HC_FDS.iloc[:, 1:]\n",
        "REP_EDC = REP_EDC.iloc[:, 1:]\n",
        "REP_FDS = REP_FDS.iloc[:, 1:]\n",
        "\n",
        "# Convertir a matrices NumPy\n",
        "matrices_EDC = [WF_EDC.to_numpy(), WE_EDC.to_numpy(), HC_EDC.to_numpy(), REP_EDC.to_numpy()]\n",
        "matrices_FDS = [WF_FDS.to_numpy(), WE_FDS.to_numpy(), HC_FDS.to_numpy(), REP_FDS.to_numpy()]\n",
        "\n",
        "# Determinar mínimo de filas\n",
        "min_filas = min(mat.shape[0] for mat in matrices_EDC + matrices_FDS)\n",
        "\n",
        "# Recortar todas al mínimo\n",
        "matrices_EDC = [mat[:min_filas, :] for mat in matrices_EDC]\n",
        "matrices_FDS = [mat[:min_filas, :] for mat in matrices_FDS]\n",
        "\n",
        "# Concatenar verticalmente\n",
        "P_EDC = np.vstack(matrices_EDC)\n",
        "P_FDS = np.vstack(matrices_FDS)\n",
        "\n",
        "print(\"Forma final P_EDC:\", P_EDC.shape)\n",
        "print(\"Forma final P_FDS:\", P_FDS.shape)"
      ],
      "metadata": {
        "colab": {
          "base_uri": "https://localhost:8080/"
        },
        "id": "YLX_79-1HuD-",
        "outputId": "c8db610b-b166-45c9-e486-4bd44092b9d6"
      },
      "execution_count": null,
      "outputs": [
        {
          "output_type": "stream",
          "name": "stdout",
          "text": [
            "Características: ['WL', 'MWL', 'IEMG', 'Variance', 'Skewness', 'Kurtosis', 'DASDV']\n",
            "Forma final P_EDC: (26360, 7)\n",
            "Forma final P_FDS: (26360, 7)\n"
          ]
        }
      ]
    },
    {
      "cell_type": "code",
      "source": [
        "def get_min_max(data):\n",
        "    \"\"\"\n",
        "    Obtiene los valores mínimos y máximos de cada columna (característica) en el conjunto de datos.\n",
        "\n",
        "    Parámetros:\n",
        "        data (numpy.ndarray): Matriz de datos donde cada fila es un segmento y cada columna es una característica.\n",
        "\n",
        "    Retorna:\n",
        "        min_values (numpy.ndarray): Array con los valores mínimos de cada columna.\n",
        "        max_values (numpy.ndarray): Array con los valores máximos de cada columna.\n",
        "    \"\"\"\n",
        "    min_values = np.min(data, axis=0)  # Mínimo de cada columna\n",
        "    max_values = np.max(data, axis=0)  # Máximo de cada columna\n",
        "    return min_values, max_values"
      ],
      "metadata": {
        "id": "P_MBPMGo5nYw"
      },
      "execution_count": null,
      "outputs": []
    },
    {
      "cell_type": "markdown",
      "source": [
        "##  Unificación global y normalización de tipo MinMaxScaler por característica de las matrices de características para ambos canales analógicos: Extensor Digitorum Communis (EDC) y Flexor Digitorum Superficialis (FDS)."
      ],
      "metadata": {
        "id": "JFktmV5J7V5_"
      }
    },
    {
      "cell_type": "markdown",
      "source": [
        "Las matrices de características asociadas a ambos canales analógicos (FDS y EDC) se concatenan en una sola matriz, este es la última unificación de los conjuntos de datos, representando la fusión de información de los valores de las ventanas de recorrido resultantes del proceso de extracción de características así como del primer proceso de discriminación de características debidamente ordenadas por característica de las señales sEMG multicanal\n",
        "\n",
        "Estos se concatenan en una única matriz que representa todo el conjunto de características a analizar. El propósito de esta concatenación, como se mencionó anteriormente, es para analizar las correlaciones cruzadas entre características de diferentes músculos y no limitar los resultados del algoritmo a un músculo específico (canal analógico, en particular). Esta concatenación permite obtener las características relevantes que pueden explicar la variabilidad del conjunto de características independientemente del canal analógico del que provengan (FDS o EDC), por lo que este enfoque permite realizar un análisis generalizado de las características relevantes del conjunto de datos.\n",
        "\n",
        "Para el desarrollo del algoritmo de Análisis de Componentes Principales se hereda el enfoque de aplicar una normalización de tipo MinMaxScaler a cada columna, es decir, a todo el vector de un tipo de característica, garantizando que los valores de cada columna se encuentren en un rango de R : [0,1]. Se enfatiza nuevamente este paso en particular en la medida de que, pese a que la extracción de características procede a muestras ya normalizadas de tipo MinMaxScaler por sujeto (específicamente, del tipo de postprocesamiento Feed Forward Comb (FFC) con Envolvente Lineal obtenido desde el microcontrolador ESP32), esto no garantiza dada la naturaleza de las diferentes características al calcularse que los valores de las ventanas de recorrido extraídas estén acotados en el rango R : [0,1]. Como se mencionó para el caso del algoritmo de Matriz de Correlación, al enlistarse las características a emplear se comprobó que para cada tipo de característica en particular, estas pueden superar el valor de la unidad o estar por debajo de la unidad en el valor máximo encontrado del todo conjunto de datos. Es por ello que, se realiza nuevamente la normalización de tipo MinMaxScaler de los valores de las ventanas de recorrido asociada a cada característica en particular, garantizando que las mismas condiciones que se utilizaron para la Matriz de Correlación se apliquen para el Análisis de Componentes Principales (PCA)."
      ],
      "metadata": {
        "id": "dU2drrUP7gZw"
      }
    },
    {
      "cell_type": "markdown",
      "source": [
        "### Concatenación de características sin importar su canal analógico"
      ],
      "metadata": {
        "id": "K6u81TCQlC7-"
      }
    },
    {
      "cell_type": "code",
      "source": [
        "# Concatenación de características de ambos músculos en una sola matriz de datos\n",
        "data = np.vstack((P_EDC, P_FDS))\n",
        "# Aplicar normalización MinMaxScaler de los datos concatenados por característica\n",
        "data = normalize_columns(data)\n",
        "print(f\"\\nForma de los conjuntos de datos totales:\")\n",
        "print(f\"P_EDC: {P_EDC.shape}\")\n",
        "print(f\"P_FDS: {P_FDS.shape}\")\n",
        "print(f\"data: {data.shape}\")\n",
        "# print(data)"
      ],
      "metadata": {
        "colab": {
          "base_uri": "https://localhost:8080/"
        },
        "id": "taiCpliblAJC",
        "outputId": "6a7961e9-b5e1-4249-e283-e1f0a7db7fa1"
      },
      "execution_count": null,
      "outputs": [
        {
          "output_type": "stream",
          "name": "stdout",
          "text": [
            "\n",
            "Forma de los conjuntos de datos totales:\n",
            "P_EDC: (26360, 7)\n",
            "P_FDS: (26360, 7)\n",
            "data: (52720, 7)\n"
          ]
        }
      ]
    },
    {
      "cell_type": "markdown",
      "source": [
        "## Manejo de valores no definidos (NaN) obtenidos en el proceso de extracción de características y exportación en archivos CSV."
      ],
      "metadata": {
        "id": "vuNnPXOR7-4B"
      }
    },
    {
      "cell_type": "markdown",
      "source": [
        "Al igual que el algoritmo abordado previamente, se realizó la verificación asociada a la imputación de datos no definidos (valores NaN), esto para corregir posibles errores en el cálculo de características de algoritmos previos en caso de presentarse. Este reemplazo de valores no definidos (NaN) se implementó, de igual forma, mediante propagación hacia adelante (forward fill) y propagación hacia atrás (backward fill) que permite sustituir estos valores no definidas para una ventana en particular con el valor de una ventana previa o posterior, como se abordó y se detalló para el caso de la Matriz de Correlación."
      ],
      "metadata": {
        "id": "W4CF4rZT8Env"
      }
    },
    {
      "cell_type": "code",
      "source": [
        "def fill_nan_with_previous(data):\n",
        "    \"\"\"\n",
        "    Reemplaza los valores NaN en cada columna por el valor anterior en esa misma columna.\n",
        "    Si el primer valor es NaN, se utiliza el siguiente valor válido.\n",
        "\n",
        "    Parámetros:\n",
        "        data (numpy.ndarray): Matriz de datos con posibles NaN.\n",
        "\n",
        "    Retorna:\n",
        "        numpy.ndarray: Matriz con los NaN reemplazados.\n",
        "    \"\"\"\n",
        "    df = pd.DataFrame(data)\n",
        "    df_filled = df.fillna(method='ffill').fillna(method='bfill')\n",
        "    return df_filled.to_numpy()"
      ],
      "metadata": {
        "id": "wSdlkuC_Bpp1"
      },
      "execution_count": null,
      "outputs": []
    },
    {
      "cell_type": "code",
      "source": [
        "data = fill_nan_with_previous(data)"
      ],
      "metadata": {
        "colab": {
          "base_uri": "https://localhost:8080/"
        },
        "id": "IcDn7ICYBruO",
        "outputId": "7ea88464-594c-48f0-bf65-7b513d94c963"
      },
      "execution_count": null,
      "outputs": [
        {
          "output_type": "stream",
          "name": "stderr",
          "text": [
            "<ipython-input-9-5d0a3097ae74>:13: FutureWarning: DataFrame.fillna with 'method' is deprecated and will raise in a future version. Use obj.ffill() or obj.bfill() instead.\n",
            "  df_filled = df.fillna(method='ffill').fillna(method='bfill')\n"
          ]
        }
      ]
    },
    {
      "cell_type": "code",
      "source": [
        "min_values, max_values = get_min_max(data)\n",
        "\n",
        "print(\"Valores mínimos de cada característica:\", min_values)\n",
        "print(\"Valores máximos de cada característica:\", max_values)"
      ],
      "metadata": {
        "colab": {
          "base_uri": "https://localhost:8080/"
        },
        "id": "uJ8p_0vq5wF6",
        "outputId": "6cbf56e3-877c-41d4-8078-832b1da7a318"
      },
      "execution_count": null,
      "outputs": [
        {
          "output_type": "stream",
          "name": "stdout",
          "text": [
            "Valores mínimos de cada característica: [0. 0. 0. 0. 0. 0. 0.]\n",
            "Valores máximos de cada característica: [1. 1. 1. 1. 1. 1. 1.]\n"
          ]
        }
      ]
    },
    {
      "cell_type": "markdown",
      "source": [
        "## Aplicación del algoritmo del Análisis de Componentes Principales (PCA) a través de la función PCA() de la biblioteca sklearn a la matriz unificada de ambos canales analógicos (EDC y FDS)."
      ],
      "metadata": {
        "id": "aHlyCXfe8Pdu"
      }
    },
    {
      "cell_type": "markdown",
      "source": [
        "Tras aplicar la función del Análisis de Componentes Principales (PCA) se generan cada una de las componentes principales que resultan en las combinaciones lineales normalizada de cada una de las variables (características) obtenidas del conjunto resultante de la Matriz de Correlación como se describió en la Ec. (3.4.5). En este sentido, el algoritmo permite extraer la siguiente información:\n",
        "  * La varianza explicada por cada componente principal.\n",
        "  * Cargas o pesos (loadings) de cada una componentes principales sobre cada\n",
        " característica, dónde estas cargas indican la importancia que tiene cada variable en cada componente y, por tanto, ayudan a conocer el tipo de información recoge cada una de las componentes. De símil modo, se enfatiza el hecho de que el orden de importancia de las componentes viene dado por la magnitud del eigenvalor asociado a cada eigenvector.\n",
        "  * Identificación de las características más relevantes en el primer componente\n",
        " principal.\n",
        "  * Cálculo de la varianza total explicada por las características más significativas.\n",
        "  * Mostrar las características más relevantes para cada componente principal."
      ],
      "metadata": {
        "id": "-hnPBnAX8SKD"
      }
    },
    {
      "cell_type": "code",
      "source": [
        "# Crear nombres de características para ambos músculos\n",
        "caracteristicas = [f\"{c}\" for c in caracteristicas]\n",
        "# Asignar nombres de columnas al DataFrame\n",
        "df = pd.DataFrame(data, columns=caracteristicas)\n",
        "\n",
        "# **Imputación de valores faltantes (NaN) con la media de la columna**\n",
        "df = df.fillna(df.mean()) #**Rellenar los valores faltantes con la media**\n",
        "\n",
        "# Normalización de los datos para PCA\n",
        "#scaler = StandardScaler()\n",
        "# df_escalada = scaler.fit_transform(df)\n",
        "\n",
        "# Aplicación de PCA\n",
        "pca = PCA()\n",
        "pca.fit(df)\n",
        "\n",
        "# Varianza explicada por cada componente principal\n",
        "explained_variance_ratio = pca.explained_variance_ratio_\n",
        "total_explained_variance = np.sum(explained_variance_ratio)\n",
        "print(f\"Varianza explicada por cada componente: {explained_variance_ratio}\")\n",
        "print(f\"Varianza total explicada: {total_explained_variance}\")\n",
        "\n",
        "# Cargas de los componentes principales sobre cada característica\n",
        "loadings = pca.components_\n",
        "loadings_df = pd.DataFrame(loadings, columns=caracteristicas)\n",
        "# print(\"\\nCargas de cada característica en los componentes principales:\")\n",
        "# print(loadings_df.head())\n",
        "\n",
        "\n",
        "# Identificación de las características más relevantes en el primer componente\n",
        "top_features_component_1 = loadings_df.iloc[0].abs().sort_values(ascending=False)\n",
        "top_features_names = top_features_component_1.head().index.tolist()\n",
        "print(\"\\nCaracterísticas más significativas en el primer componente principal:\")\n",
        "print(top_features_names)\n",
        "print(top_features_component_1.head())\n",
        "\n",
        "\n",
        "# Cálculo de la varianza total explicada por las características más significativas\n",
        "top_features_variance = top_features_component_1.head().sum()\n",
        "print(f\"Varianza explicada por las características más significativas: {top_features_variance}\")\n"
      ],
      "metadata": {
        "colab": {
          "base_uri": "https://localhost:8080/"
        },
        "id": "SmK8ebTnlX_r",
        "outputId": "db110604-c075-40da-9aed-8ea07c9b40f3"
      },
      "execution_count": null,
      "outputs": [
        {
          "output_type": "stream",
          "name": "stdout",
          "text": [
            "Varianza explicada por cada componente: [0.80563039 0.08363329 0.06275686 0.01752886 0.01457406 0.01147468\n",
            " 0.00440186]\n",
            "Varianza total explicada: 1.0\n",
            "\n",
            "Características más significativas en el primer componente principal:\n",
            "['IEMG', 'WL', 'MWL', 'Variance', 'DASDV']\n",
            "IEMG        0.835220\n",
            "WL          0.391964\n",
            "MWL         0.357811\n",
            "Variance    0.106074\n",
            "DASDV       0.097383\n",
            "Name: 0, dtype: float64\n",
            "Varianza explicada por las características más significativas: 1.7884526719150753\n"
          ]
        }
      ]
    },
    {
      "cell_type": "code",
      "source": [
        "# Identificación de las características más relevantes en el primer componente\n",
        "top_features_component_1 = loadings_df.iloc[0].abs().sort_values(ascending=False)\n",
        "top_features_names = top_features_component_1.head().index.tolist()\n",
        "print(\"\\nCaracterísticas más significativas en el primer componente principal:\")\n",
        "print(top_features_component_1.head(20))"
      ],
      "metadata": {
        "colab": {
          "base_uri": "https://localhost:8080/"
        },
        "id": "VNqxXJmuUWNi",
        "outputId": "a7442db3-deeb-4540-83a7-9b4ecd108a9d"
      },
      "execution_count": null,
      "outputs": [
        {
          "output_type": "stream",
          "name": "stdout",
          "text": [
            "\n",
            "Características más significativas en el primer componente principal:\n",
            "IEMG        0.835220\n",
            "WL          0.391964\n",
            "MWL         0.357811\n",
            "Variance    0.106074\n",
            "DASDV       0.097383\n",
            "Kurtosis    0.002729\n",
            "Skewness    0.000127\n",
            "Name: 0, dtype: float64\n"
          ]
        }
      ]
    },
    {
      "cell_type": "markdown",
      "source": [
        "## Selección de características relevantes a emplear para el clasificador de Apren dizaje Automático (Machine Learning) de tipo supervisado través de la consideración de las cargas (pesos) de las componentes principales (combinaciones lineales de las características con menor asociación lineal) como de los eigenvalores asociados a cada unas de las componentes principales."
      ],
      "metadata": {
        "id": "c0ABtqik9BQB"
      }
    },
    {
      "cell_type": "markdown",
      "source": [
        " 1. Se seleccionan las características más relevantes evaluando los valores absolutos de las cargas o pesos (loadings) de cada componente:\n",
        " * Para la primera componente principal, se ordenan las características por su\n",
        " contribución absoluta y se seleccionan las 5 más importantes.\n",
        "    * Este procedimiento se repite para cada componente principal."
      ],
      "metadata": {
        "id": "st8n7uEw9INe"
      }
    },
    {
      "cell_type": "code",
      "source": [
        "# Mostrar las características más relevantes para cada componente principal\n",
        "for component in range(loadings_df.shape[0]):  # Itera a través de cada componente principal\n",
        "    top_features_component = loadings_df.iloc[component].abs().sort_values(ascending=False)\n",
        "    top_features_names = top_features_component.head().index.tolist()\n",
        "    print(f\"\\nCaracterísticas más significativas en el componente principal {component + 1}:\")\n",
        "    print(top_features_names)\n",
        "    print(top_features_component.head())\n"
      ],
      "metadata": {
        "colab": {
          "base_uri": "https://localhost:8080/"
        },
        "id": "AkP9KdRlUQoU",
        "outputId": "3833f197-ffda-4c85-b7b4-69b26bbb5b83"
      },
      "execution_count": null,
      "outputs": [
        {
          "output_type": "stream",
          "name": "stdout",
          "text": [
            "\n",
            "Características más significativas en el componente principal 1:\n",
            "['IEMG', 'WL', 'MWL', 'Variance', 'DASDV']\n",
            "IEMG        0.835220\n",
            "WL          0.391964\n",
            "MWL         0.357811\n",
            "Variance    0.106074\n",
            "DASDV       0.097383\n",
            "Name: 0, dtype: float64\n",
            "\n",
            "Características más significativas en el componente principal 2:\n",
            "['IEMG', 'MWL', 'WL', 'Variance', 'DASDV']\n",
            "IEMG        0.532820\n",
            "MWL         0.527114\n",
            "WL          0.495313\n",
            "Variance    0.311279\n",
            "DASDV       0.300494\n",
            "Name: 1, dtype: float64\n",
            "\n",
            "Características más significativas en el componente principal 3:\n",
            "['MWL', 'Variance', 'WL', 'IEMG', 'Skewness']\n",
            "MWL         0.694977\n",
            "Variance    0.589115\n",
            "WL          0.410032\n",
            "IEMG        0.032310\n",
            "Skewness    0.022906\n",
            "Name: 2, dtype: float64\n",
            "\n",
            "Características más significativas en el componente principal 4:\n",
            "['Skewness', 'Variance', 'WL', 'MWL', 'Kurtosis']\n",
            "Skewness    0.842629\n",
            "Variance    0.413403\n",
            "WL          0.295212\n",
            "MWL         0.147861\n",
            "Kurtosis    0.088735\n",
            "Name: 3, dtype: float64\n",
            "\n",
            "Características más significativas en el componente principal 5:\n",
            "['Variance', 'WL', 'Skewness', 'MWL', 'IEMG']\n",
            "Variance    0.587417\n",
            "WL          0.573755\n",
            "Skewness    0.522722\n",
            "MWL         0.180092\n",
            "IEMG        0.108122\n",
            "Name: 4, dtype: float64\n",
            "\n",
            "Características más significativas en el componente principal 6:\n",
            "['DASDV', 'MWL', 'Variance', 'WL', 'IEMG']\n",
            "DASDV       0.942618\n",
            "MWL         0.237703\n",
            "Variance    0.168977\n",
            "WL          0.128668\n",
            "IEMG        0.073959\n",
            "Name: 5, dtype: float64\n",
            "\n",
            "Características más significativas en el componente principal 7:\n",
            "['Kurtosis', 'Skewness', 'DASDV', 'MWL', 'Variance']\n",
            "Kurtosis    0.993519\n",
            "Skewness    0.096426\n",
            "DASDV       0.054832\n",
            "MWL         0.018188\n",
            "Variance    0.016829\n",
            "Name: 6, dtype: float64\n"
          ]
        }
      ]
    },
    {
      "cell_type": "code",
      "source": [
        "# Cálculo de la varianza explicada por la primera componente principal\n",
        "varianza_pc1 = explained_variance_ratio[0]\n",
        "print(f\"Varianza explicada por la primera componente principal: {varianza_pc1}\")"
      ],
      "metadata": {
        "colab": {
          "base_uri": "https://localhost:8080/"
        },
        "id": "EPZyEObqTCrW",
        "outputId": "c16b482b-6238-4a0a-bb39-609abb494022"
      },
      "execution_count": null,
      "outputs": [
        {
          "output_type": "stream",
          "name": "stdout",
          "text": [
            "Varianza explicada por la primera componente principal: 0.8056303932200013\n"
          ]
        }
      ]
    },
    {
      "cell_type": "markdown",
      "source": [
        "## Visualización con gráfico de codo Finalmente, el algoritmo de Análisis de Componentes Principales (PCA) concluye en la generación de un gráfico de codo o gráfico de hombro con el fin de visualizar el número de componentes principales a utilizar a través de la ilustración de la siguiente información:"
      ],
      "metadata": {
        "id": "WlKWsVFP9UMF"
      }
    },
    {
      "cell_type": "markdown",
      "source": [
        " * Visualización de la varianza explicada individualmente por cada componente (barras rojas).\n",
        " * Visualización de la varianza acumulada (línea punteada azul)."
      ],
      "metadata": {
        "id": "rbA_s4Zo9Zo5"
      }
    },
    {
      "cell_type": "code",
      "source": [
        "# Gráfico de codo con varianza acumulada y varianza individual\n",
        "plt.figure(figsize=(8,5))\n",
        "plt.plot(range(1, len(explained_variance_ratio) + 1), np.cumsum(explained_variance_ratio), marker='o', linestyle='--', color='b', label='Varianza Acumulada')\n",
        "plt.bar(range(1, len(explained_variance_ratio) + 1), explained_variance_ratio, alpha=0.5, color='r', label='Varianza Individual')\n",
        "plt.xlabel('Número de Componentes')\n",
        "plt.ylabel('Varianza Explicada')\n",
        "plt.title('Gráfico de Codo para Selección de Componentes')\n",
        "plt.legend()\n",
        "plt.grid()\n",
        "plt.show()"
      ],
      "metadata": {
        "colab": {
          "base_uri": "https://localhost:8080/",
          "height": 488
        },
        "id": "XIHdo56oTI1a",
        "outputId": "9c17ac00-31de-4345-f350-b93128643e82"
      },
      "execution_count": null,
      "outputs": [
        {
          "output_type": "display_data",
          "data": {
            "text/plain": [
              "<Figure size 800x500 with 1 Axes>"
            ],
            "image/png": "[encoded data removed]"
          },
          "metadata": {}
        }
      ]
    },
    {
      "cell_type": "code",
      "source": [
        "# Determinación del número óptimo de componentes usando el 95% de varianza explicada\n",
        "explained_variance_percentage = 0.90\n",
        "num_componentes_optimos = np.argmax(np.cumsum(explained_variance_ratio) >= explained_variance_percentage) + 1\n",
        "print(f\"Número óptimo de componentes para retener el {explained_variance_percentage * 100} % de la varianza: {num_componentes_optimos}\")"
      ],
      "metadata": {
        "colab": {
          "base_uri": "https://localhost:8080/"
        },
        "id": "wV8Nc4NCTLNG",
        "outputId": "c0c18014-f134-4347-ca16-aaca25d98a54"
      },
      "execution_count": null,
      "outputs": [
        {
          "output_type": "stream",
          "name": "stdout",
          "text": [
            "Número óptimo de componentes para retener el 90.0 % de la varianza: 3\n"
          ]
        }
      ]
    },
    {
      "cell_type": "code",
      "source": [
        "# Obtener las características más significativas del primer componente principal\n",
        "top_features_PC1 = loadings_df.iloc[0].abs().sort_values(ascending=False)\n",
        "top_features_PC1_names = top_features_PC1.head().index.tolist()\n",
        "\n",
        "# Imprimir las características más relevantes del primer componente principal\n",
        "print(\"\\nCaracterísticas más significativas del primer componente principal (PC1):\")\n",
        "print(top_features_PC1_names)\n",
        "print(top_features_PC1.head())\n",
        "\n",
        "# Diccionarios para contar la frecuencia de aparición de características\n",
        "feature_counts_all = {}  # Contará frecuencia en todos los componentes hasta el óptimo\n",
        "feature_counts_excluding_PC1 = {}  # Contará frecuencia excluyendo PCA1\n",
        "\n",
        "# Iterar sobre los componentes principales hasta el número óptimo determinado\n",
        "for component in range(num_componentes_optimos):\n",
        "    # Obtener las características más significativas de cada componente\n",
        "    top_features_component = loadings_df.iloc[component].abs().sort_values(ascending=False)\n",
        "    top_features_names = top_features_component.head().index.tolist()\n",
        "\n",
        "    # Contabilizar la aparición en el conteo total\n",
        "    for feature in top_features_names:\n",
        "        feature_counts_all[feature] = feature_counts_all.get(feature, 0) + 1\n",
        "\n",
        "    # Contabilizar en el conteo sin PCA1 (si el componente no es el primero)\n",
        "    if component > 0:\n",
        "        for feature in top_features_names:\n",
        "            feature_counts_excluding_PC1[feature] = feature_counts_excluding_PC1.get(feature, 0) + 1\n",
        "\n",
        "# Convertir los diccionarios en DataFrames para mejor visualización\n",
        "feature_counts_all_df = pd.DataFrame.from_dict(feature_counts_all, orient='index', columns=['Frecuencia'])\n",
        "feature_counts_all_df = feature_counts_all_df.sort_values(by='Frecuencia', ascending=False)\n",
        "\n",
        "feature_counts_excluding_PC1_df = pd.DataFrame.from_dict(feature_counts_excluding_PC1, orient='index', columns=['Frecuencia'])\n",
        "feature_counts_excluding_PC1_df = feature_counts_excluding_PC1_df.sort_values(by='Frecuencia', ascending=False)\n",
        "\n",
        "# Mostrar la frecuencia de aparición de características en los primeros componentes seleccionados\n",
        "print(\"\\nFrecuencia de aparición de características en los primeros\", num_componentes_optimos - 1, \"componentes principales (excluyendo PC1):\")\n",
        "print(feature_counts_excluding_PC1_df)\n",
        "\n",
        "\n",
        "print(\"\\nFrecuencia de aparición de características en los primeros\", num_componentes_optimos, \"componentes principales (incluyendo PC1):\")\n",
        "print(feature_counts_all_df)\n"
      ],
      "metadata": {
        "colab": {
          "base_uri": "https://localhost:8080/"
        },
        "id": "2LiiHXpgqeKE",
        "outputId": "6da26faa-20dc-4f7f-b2ed-9de7c03c462a"
      },
      "execution_count": null,
      "outputs": [
        {
          "output_type": "stream",
          "name": "stdout",
          "text": [
            "\n",
            "Características más significativas del primer componente principal (PC1):\n",
            "['IEMG', 'WL', 'MWL', 'Variance', 'DASDV']\n",
            "IEMG        0.835220\n",
            "WL          0.391964\n",
            "MWL         0.357811\n",
            "Variance    0.106074\n",
            "DASDV       0.097383\n",
            "Name: 0, dtype: float64\n",
            "\n",
            "Frecuencia de aparición de características en los primeros 2 componentes principales (excluyendo PC1):\n",
            "          Frecuencia\n",
            "IEMG               2\n",
            "MWL                2\n",
            "WL                 2\n",
            "Variance           2\n",
            "DASDV              1\n",
            "Skewness           1\n",
            "\n",
            "Frecuencia de aparición de características en los primeros 3 componentes principales (incluyendo PC1):\n",
            "          Frecuencia\n",
            "IEMG               3\n",
            "WL                 3\n",
            "MWL                3\n",
            "Variance           3\n",
            "DASDV              2\n",
            "Skewness           1\n"
          ]
        }
      ]
    }
  ]
}